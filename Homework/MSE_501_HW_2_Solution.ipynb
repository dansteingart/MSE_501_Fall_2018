{
 "cells": [
  {
   "cell_type": "markdown",
   "metadata": {},
   "source": [
    "# MSE 501 2018 HW 2 \n",
    "\n",
    "You are handed the attached XRD pattern (mystery.png). You are asked to determine what metal you are looking at. Hint: it may be more than one type of metal.\n",
    "\n",
    "\n",
    "1. Determine what this structure can be in terms of crystal structure(s) and lattice parameter(s)\n",
    "\n",
    "2. Doing some web sleuthing, hypothesize\n",
    " what [different] atom[s] might make up this/these structure[s]\n",
    "\n",
    "3. Estimate the crystallite size of these structures\n",
    "\n",
    "4. You are given a second pattern (mystery2.png). Using your previous analysis, hypothesize what this might be.\n",
    "\n",
    "You may use pylattice to check your work but you do not have to and you do not need to.  \n",
    "\n",
    "Datasets for both plots are also provided. You will also find them in your notebooks under data_sets, and there is a notebook in your folder that shows you how to open and plot data.\n",
    "\n",
    "\n",
    "The X-ray source used is copper k_alpha @ 1.5405 Å\n",
    "\n",
    "\n",
    "\n",
    "## Solution\n",
    "See [here](http://pubs.acs.org/doi/pdf/10.1021/ed074p115)\n",
    "An unknown sample has peaks at the following $2\\theta$, found using a copper source."
   ]
  },
  {
   "cell_type": "code",
   "execution_count": 1,
   "metadata": {},
   "outputs": [],
   "source": [
    "import sys\n",
    "sys.path.append(\"/pithy/code\")\n",
    "sys.path.append(\"/notebooks/class_folder/Libraries/pylattice/\")\n",
    "from pithy import * \n",
    "import pandas as pd\n",
    "import peakutils\n",
    "from lattice import *\n",
    "import libruff\n",
    "%matplotlib inline"
   ]
  },
  {
   "cell_type": "code",
   "execution_count": 7,
   "metadata": {},
   "outputs": [
    {
     "data": {
      "image/png": "[encoded data removed]",
      "text/plain": [
       "<Figure size 432x288 with 1 Axes>"
      ]
     },
     "metadata": {},
     "output_type": "display_data"
    }
   ],
   "source": [
    "#open data file\n",
    "df = pd.read_csv(\"/notebooks/class_folder/Datasets/hw2_mystery.dat\")\n",
    "plot(df['2Theta'],df['Count'],'k')\n",
    "indices = peakutils.indexes(df['Count'], thres=.1, min_dist=20)#see \n",
    "for i in indices: scatter(df.iloc[i]['2Theta'],df.iloc[i]['Count'],color=\"red\")\n",
    "    \n"
   ]
  },
  {
   "cell_type": "markdown",
   "metadata": {},
   "source": [
    "So we have peaks identified at"
   ]
  },
  {
   "cell_type": "code",
   "execution_count": 8,
   "metadata": {},
   "outputs": [
    {
     "name": "stdout",
     "output_type": "stream",
     "text": [
      "44     43.875511\n",
      "107    45.000061\n",
      "187    50.865305\n",
      "227    52.226913\n",
      "401    74.371325\n",
      "430    76.588090\n",
      "Name: 2Theta, dtype: float64\n"
     ]
    }
   ],
   "source": [
    "print df.iloc[indices]['2Theta']"
   ]
  },
  {
   "cell_type": "markdown",
   "metadata": {},
   "source": [
    "Let's assume at first it's a subpic structure, so we can use a structure factor of the form:\n",
    "\n",
    "$$\\sin^2 (\\theta) = \\lambda^2\\frac{h^2+k^2+l^2}{4a^2}$$\n",
    "\n",
    "where\n",
    "\n",
    "$h^2+k^2+l^2$ must be an integer number\n",
    "\n",
    "\n",
    "$$\\frac{\\sin^2 (\\theta) 4a^2}{\\lambda^2} = h^2+k^2+l^2$$\n",
    "\n",
    "We have  more unknowns than equations, so we have to guess and check"
   ]
  },
  {
   "cell_type": "code",
   "execution_count": 4,
   "metadata": {},
   "outputs": [
    {
     "name": "stdout",
     "output_type": "stream",
     "text": [
      "2theta= 0.7657718555408947 sin^2(theta)= 0.13957619795782564\n",
      "2theta= 0.7853989390862856 sin^2(theta)= 0.14644688365425104\n",
      "2theta= 0.8877667358270589 sin^2(theta)= 0.18442706898054248\n",
      "2theta= 0.9115312618237288 sin^2(theta)= 0.19373195325948694\n",
      "2theta= 1.2980240192090866 sin^2(theta)= 0.36529886118677024\n",
      "2theta= 1.3367138630335904 sin^2(theta)= 0.38402471476263883\n",
      "[1.         1.04922534 1.3213361  1.38800136 2.61720026 2.75136248]\n"
     ]
    }
   ],
   "source": [
    "arr =  array(df.iloc[indices]['2Theta'])\n",
    "ang_to_rad = 57.2958\n",
    "#conver to radians\n",
    "arr = arr/ang_to_rad\n",
    "\n",
    "for a in arr: print '2theta=',a,'sin^2(theta)=',sin(a/2)**2\n",
    "\n",
    "#try normalizing to first peak....\n",
    "conv = sin(arr/2)**2\n",
    "\n",
    "conv = conv/conv[0] #ratio of the different peaks\n",
    "print conv\n"
   ]
  },
  {
   "cell_type": "markdown",
   "metadata": {},
   "source": [
    "Not great yet, so let's take another look at the data\n"
   ]
  },
  {
   "cell_type": "code",
   "execution_count": 5,
   "metadata": {},
   "outputs": [
    {
     "data": {
      "image/png": "[encoded data removed]",
      "text/plain": [
       "<Figure size 432x288 with 1 Axes>"
      ]
     },
     "metadata": {},
     "output_type": "display_data"
    }
   ],
   "source": [
    "plot(df['2Theta'],df['Count'],'k')\n",
    "indices = peakutils.indexes(df['Count'], thres=.1, min_dist=20)#see \n",
    "for i in indices: scatter(df.iloc[i]['2Theta'],df.iloc[i]['Count'],color=\"red\")\n",
    "    \n"
   ]
  },
  {
   "cell_type": "markdown",
   "metadata": {},
   "source": [
    "Note that it looks like three pairs of peaks at similar ratios. What if these are two different materials with similar structures? Let's separate the 1,3 and 5th peak from the 2nd,4th, and 6th."
   ]
  },
  {
   "cell_type": "code",
   "execution_count": 6,
   "metadata": {},
   "outputs": [],
   "source": [
    "arr =  array(df.iloc[indices]['2Theta'])\n",
    "arr1 = array([arr[0],arr[2],arr[4]])\n",
    "arr2 = array([arr[1],arr[3],arr[5]])\n",
    "\n",
    "arr1 = arr1/ang_to_rad\n",
    "arr2 = arr2/ang_to_rad"
   ]
  },
  {
   "cell_type": "markdown",
   "metadata": {},
   "source": [
    "And now we can look for matches separately:"
   ]
  },
  {
   "cell_type": "code",
   "execution_count": 7,
   "metadata": {},
   "outputs": [
    {
     "name": "stdout",
     "output_type": "stream",
     "text": [
      "guess 1 =  [1.         1.3213361  2.61720026]\n",
      "guess 2 =  [1.         1.32288205 2.62227987]\n"
     ]
    }
   ],
   "source": [
    "conv1 = sin(arr1/2)**2\n",
    "conv1 = conv1/conv1[0] #ratio of the different peaks\n",
    "guessn = 1\n",
    "print \"guess 1 = \", conv1*guessn\n",
    "conv2 = sin(arr2/2)**2\n",
    "conv2 = conv2/conv2[0] #ratio of the different peaks\n",
    "print \"guess 2 = \", conv2*guessn\n"
   ]
  },
  {
   "cell_type": "markdown",
   "metadata": {},
   "source": [
    "This seems to have been reasonable, the ratio of the two structures seems to be the same. But what is it? We're stil lacking an interger multiple. Let's multiply through to see if we can fix that\n"
   ]
  },
  {
   "cell_type": "code",
   "execution_count": 8,
   "metadata": {},
   "outputs": [
    {
     "name": "stdout",
     "output_type": "stream",
     "text": [
      "guess 1 =  [3.         3.9640083  7.85160077]\n",
      "guess 2 =  [3.         3.96864614 7.8668396 ]\n"
     ]
    }
   ],
   "source": [
    "conv1 = sin(arr1/2)**2\n",
    "conv1 = conv1/conv1[0] #ratio of the different peaks\n",
    "guessn = 3\n",
    "print \"guess 1 = \", conv1*guessn\n",
    "conv2 = sin(arr2/2)**2\n",
    "conv2 = conv2/conv2[0] #ratio of the different peaks\n",
    "print \"guess 2 = \", conv2*guessn\n",
    "\n",
    "# This \n"
   ]
  },
  {
   "cell_type": "markdown",
   "metadata": {},
   "source": [
    "This isn't great, but we can try working with it.\n",
    "\n",
    "- $1^2+1^2+1^2 = 3$  All odd\n",
    "- $2^2+2^2+0^2 = 8$  All even\n",
    "- $3^2+1^2+1^2 = 11$ All odd\n",
    "- $4^2+0^2+0^2 = 16$ All even\n",
    "- $3^2+3^2+1^2 = 19$ All odd\n",
    "- $4^2+2^2+2^2 = 24$ All odd\n",
    "\n",
    "this seems to be fcc. let's test\n",
    "\n"
   ]
  },
  {
   "cell_type": "code",
   "execution_count": 9,
   "metadata": {},
   "outputs": [
    {
     "name": "stdout",
     "output_type": "stream",
     "text": [
      "[0.76577186 0.88776674 1.29802402]\n",
      "a1 =  3.570973705678371\n",
      "a1 =  3.5871486209837755\n",
      "a1 =  3.604562343257125\n",
      "[0.78539894 0.91153126 1.33671386]\n",
      "a2 =  3.4861997476725333\n",
      "a2 =  3.49994382662765\n",
      "a2 =  3.5155810340164924\n"
     ]
    }
   ],
   "source": [
    "l_cu = 1.5405 #our copper source\n",
    "\n",
    "miller = [[1,1,1],[2,0,0],[2,2,0]]  #our available peaks\n",
    "print arr1\n",
    "for i in range(len(arr1)): #sweep the range\n",
    "    theta = arr1[i]/2 #match theta\n",
    "    summer = 0\n",
    "    for j in miller[i]: summer += j**2\n",
    "    a1 = sqrt(l_cu**2*(summer)/(4*sin(theta)**2))\n",
    "\n",
    "    print \"a1 = \", a1\n",
    "\n",
    "    \n",
    "print arr2\n",
    "for i in range(len(arr2)): #sweep the range\n",
    "    theta = arr2[i]/2 #match theta\n",
    "    summer = 0\n",
    "    for j in miller[i]: summer += j**2\n",
    "    a2 = sqrt(l_cu**2*(summer)/(4*sin(theta)**2))\n",
    "\n",
    "    print \"a2 = \", a2\n"
   ]
  },
  {
   "cell_type": "markdown",
   "metadata": {},
   "source": [
    "So there is some error in the fit, but is seems pretty close to FCC. Let's try to fit to real parameters.\n",
    "\n",
    "From [here](http://periodictable.com/Properties/A/LatticeConstants.html), Copper seems to be ~3.61A (a1) , and Nickel ~3.52A (a2). \n"
   ]
  },
  {
   "cell_type": "code",
   "execution_count": 10,
   "metadata": {},
   "outputs": [
    {
     "data": {
      "image/png": "[encoded data removed]",
      "text/plain": [
       "<Figure size 720x720 with 1 Axes>"
      ]
     },
     "metadata": {},
     "output_type": "display_data"
    }
   ],
   "source": [
    "figure(figsize=(10,10))\n",
    "#Plot Crystal 1\n",
    "param = a1\n",
    "lattice = FCC(param)\n",
    "basis = Basis([('Cu',[0,0,0]),('Cu',[0.5,0.5,0])],l_const=a1)\n",
    "crystal = lattice + basis\n",
    "\n",
    "# Plot a simulated XRD with copper radiation\n",
    "scattering_data = powder_XRD(crystal, l_cu)\n",
    "angles, values = spectrumify(scattering_data)\n",
    "plot(angles,values/max(values),label=\"Cu Simulation\")\n",
    "\n",
    "\n",
    "#Plot Crystal 2\n",
    "param = a2\n",
    "lattice = FCC(param)\n",
    "basis = Basis([('Ni',[0,0,0]),('Ni',[0.5,0.5,0])],l_const=a1)\n",
    "crystal = lattice + basis\n",
    "\n",
    "\n",
    "# Plot a simulated XRD with copper radiation\n",
    "scattering_data = powder_XRD(crystal, l_cu)\n",
    "angles, values = spectrumify(scattering_data)\n",
    "plot(angles,values/max(values)+1,label=\"Ni Simulation\")\n",
    "\n",
    "#Plot original data\n",
    "plot(df['2Theta'],df['Count']/max(df['Count'])+2,'k')\n",
    "indices = peakutils.indexes(df['Count'], thres=.1, min_dist=20)#see \n",
    "\n",
    "\n",
    "# Add some more info to the plot\n",
    "xlabel(r'$2\\theta$')\n",
    "ylabel(r'Scattering Intensity per Cubic Angstrom')\n",
    "yticks([])\n",
    "xlim(40,80)\n",
    "legend()\n",
    "show()\n",
    "\n"
   ]
  },
  {
   "cell_type": "markdown",
   "metadata": {},
   "source": [
    "So this fit is a good hypothesis, but it's not a smoking gun because the there is still a bit of slop on the peaks, indicating an experimental scan that is lacking. At this point we'd also do xray spectroscopy to determine what the chemistry is, and we'd confirm that it is indeed a mixture of copper and nickel powder."
   ]
  },
  {
   "cell_type": "markdown",
   "metadata": {},
   "source": [
    "To estimate the crystal size, we apply the Scherrer equation to the first peak.\n",
    "\n",
    "The second structure is then, likely, an alloy of Nickel and Copper"
   ]
  }
 ],
 "metadata": {
  "kernelspec": {
   "display_name": "Python 2",
   "language": "python",
   "name": "python2"
  },
  "language_info": {
   "codemirror_mode": {
    "name": "ipython",
    "version": 2
   },
   "file_extension": ".py",
   "mimetype": "text/x-python",
   "name": "python",
   "nbconvert_exporter": "python",
   "pygments_lexer": "ipython2",
   "version": "2.7.12"
  }
 },
 "nbformat": 4,
 "nbformat_minor": 2
}
