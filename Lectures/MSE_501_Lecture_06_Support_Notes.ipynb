{
 "cells": [
  {
   "cell_type": "markdown",
   "metadata": {},
   "source": [
    "## We Have Our Xrays, now let's figure out what this structure is\n",
    "\n",
    "<img src=\"https://drops.steingart.princeton.edu/MSE501_Fall_2017/Images/Lecture04/bragg_like_what.png\">\n",
    "\n"
   ]
  },
  {
   "cell_type": "code",
   "execution_count": 63,
   "metadata": {},
   "outputs": [],
   "source": [
    "## Simple Structure Factor Finder\n",
    "%matplotlib inline\n",
    "import sys\n",
    "sys.path.append(\"/pithy/code\")\n",
    "from pithy import *\n",
    "\n",
    "def sf(vec):\n",
    "    runner = 0\n",
    "    for v in vec:\n",
    "        v = array(v)\n",
    "        print v,real(exp(2*pi*1j*sum(v)))\n",
    "        runner += real(exp(2*pi*1j*sum(v)))\n",
    "    return runner\n",
    "\n",
    "\n"
   ]
  },
  {
   "cell_type": "markdown",
   "metadata": {},
   "source": [
    "### FCC\n",
    "\n",
    "FCC can be considered of the form A where\n",
    "\n",
    "$$F_{\\text{hkl}} = \\sum_{n=1}^N f_n \\exp(2\\pi i (hu_n+kv_n+lw_n))$$\n",
    "\n",
    "$$u_A=0,v_A=0,w_A=0$$\n",
    "\n",
    "$$u_B=\\frac{1}{2},v_B=\\frac{1}{2},w_B=0$$\n",
    "\n",
    "$$u_C=0,v_C=\\frac{1}{2},w_C=\\frac{1}{2}$$\n",
    "\n",
    "$$u_D=\\frac{1}{2},v_C=0,w_C=\\frac{1}{2}$$\n",
    "\n",
    "\n",
    "\n",
    "$$F= f [\\exp(2\\pi i(0))+ \\exp(2\\pi i (\\frac{h}{2}+\\frac{k}{2}+0)) + \\exp(2\\pi i (\\frac{h}{2}+0+\\frac{l}{2})) + \\exp(2\\pi i (0+\\frac{k}{2}+\\frac{l}{2}))]$$\n",
    "\n",
    "$$F= f [1+ \\exp(\\pi i (h+k)+\\exp(\\pi i (k+l)+\\exp(\\pi i (h+l)]$$\n",
    "\n",
    "\n",
    "so if \n",
    "- $h,k,l=\\text{all even all odd}$ we should get a peak (4f)\n",
    "- $h,k,l=\\text{mixed}$ we should not get a peak (0)\n",
    "\n"
   ]
  },
  {
   "cell_type": "code",
   "execution_count": 66,
   "metadata": {},
   "outputs": [
    {
     "name": "stdout",
     "output_type": "stream",
     "text": [
      "[0 0 0] 1.0\n",
      "[ 0.   0.5  0.5] 1.0\n",
      "[ 0.5  0.5  0. ] 1.0\n",
      "[ 0.5  0.   0.5] 1.0\n"
     ]
    },
    {
     "data": {
      "text/plain": [
       "4.0"
      ]
     },
     "execution_count": 66,
     "metadata": {},
     "output_type": "execute_result"
    }
   ],
   "source": [
    "## So let's try it out\n",
    "a = [0,0,0]\n",
    "b = [0,.5,.5]\n",
    "c = [.5,.5,0]\n",
    "d = [.5,0,.5]\n",
    "\n",
    "\n",
    "s = [a,b,c,d] #s for set\n",
    "sf(s)"
   ]
  },
  {
   "cell_type": "markdown",
   "metadata": {},
   "source": [
    "### BCC\n",
    "\n",
    "BCC can be considered of the form A,B where A = [0 0 0] and B = [1/2 1/2 1/2], so for any rotation we can say that\n",
    "\n",
    "$$F_{\\text{hkl}} = \\sum_{n=1}^N f_n \\exp(2\\pi i (hu_n+kv_n+lw_n))$$\n",
    "\n",
    "$$u_1=0,v_1=0,w_1=0$$\n",
    "\n",
    "$$u_2=\\frac{1}{2},v_2=\\frac{1}{2},w_2=\\frac{1}{2}$$\n",
    "\n",
    "$$F= f [\\exp(2\\pi i(0))+ \\exp(2\\pi i (\\frac{h}{2}+\\frac{k}{2}+\\frac{l}{2}))]$$\n",
    "\n",
    "$$F= f [1+ \\exp(\\pi i (h+k+l)]$$\n",
    "\n",
    "\n",
    "so if \n",
    "- $h+k+l=\\text{even}$ we should get a peak\n",
    "- $h+k+l=\\text{odd}$ we should not get a peak\n",
    "\n",
    "\n"
   ]
  },
  {
   "cell_type": "code",
   "execution_count": 67,
   "metadata": {},
   "outputs": [
    {
     "name": "stdout",
     "output_type": "stream",
     "text": [
      "[0 0 0] 1.0\n",
      "[ 0.5  0.5  0.5] -1.0\n"
     ]
    },
    {
     "data": {
      "text/plain": [
       "0.0"
      ]
     },
     "execution_count": 67,
     "metadata": {},
     "output_type": "execute_result"
    }
   ],
   "source": [
    "## So let's try it out\n",
    "a = [0,0,0]\n",
    "b = [.5,.5,.5]\n",
    "s = [a,b] #s for set\n",
    "sf(s)"
   ]
  },
  {
   "cell_type": "markdown",
   "metadata": {},
   "source": [
    "### Simple Cubic\n",
    "\n",
    "\n",
    "$$F_{\\text{hkl}} = \\sum_{n=1}^N f_n \\exp(2\\pi i (hu_n+kv_n+lw_n))$$\n",
    "\n",
    "$$u_1=0,v_1=0,w_1=0$$\n",
    "\n",
    "$$u_2=1,v_2=0,w_2=0$$\n",
    "\n",
    "$$F= f [\\exp(2\\pi i(0))+ \\exp(2\\pi i h)]$$\n",
    "\n",
    "$$F= f [1+ \\exp(\\pi i (2h)]$$\n",
    "\n",
    "2 times _anything_ is even, so.....\n",
    "\n"
   ]
  },
  {
   "cell_type": "code",
   "execution_count": 43,
   "metadata": {},
   "outputs": [
    {
     "data": {
      "text/plain": [
       "2.0"
      ]
     },
     "execution_count": 43,
     "metadata": {},
     "output_type": "execute_result"
    }
   ],
   "source": [
    "## So let's try it out\n",
    "a = [0,0,0]\n",
    "b = [1,0,0]\n",
    "s = [a,b] #s for set\n",
    "sf(s)"
   ]
  },
  {
   "cell_type": "code",
   "execution_count": 13,
   "metadata": {},
   "outputs": [
    {
     "data": {
      "image/png": "[encoded data removed]",
      "text/plain": [
       "<Figure size 720x720 with 1 Axes>"
      ]
     },
     "metadata": {},
     "output_type": "display_data"
    }
   ],
   "source": [
    "import sys\n",
    "\n",
    "sys.path.append(\"/pithy/code\")\n",
    "sys.path.append(\"/notebooks/class_folder/Libraries/pylattice/\")\n",
    "\n",
    "#import above\n",
    "from pithy import *\n",
    "from lattice import *\n",
    "import libruff\n",
    "#jupyter magic call\n",
    "%matplotlib inline\n",
    "\n",
    "figure(figsize=(10,10))\n",
    "\n",
    "#Let's see what happens when we strain a lattice\n",
    "offset = 0\n",
    "for strainer in linspace(-.005,.005,5):\n",
    "    v1 = parameter*array([0,.5,.5+strainer]) \n",
    "    v2 = parameter*array([.5,0,.5+strainer])\n",
    "    v3 = parameter*array([.5,.5,0])\n",
    "\n",
    "    lattice = Lattice(v1,v2,v3)\n",
    "    basis = Basis([('Fe',[0,0,0])], l_const=parameter)\n",
    "    crystal = lattice + basis\n",
    "\n",
    "    offset = offset+1\n",
    "    scattering_data = powder_XRD(crystal, 1.5405)\n",
    "    angles, values = spectrumify(scattering_data)\n",
    "    plot(angles, values+offset,color=\"black\")\n",
    "    annotate(\"c strain =\\n \"+str(strainer)[0:7],xy=(0,offset+.1))\n",
    "\n",
    "    \n",
    "title(r'Simulated Powder XRD of FCC Fe, $\\lambda = 1.5405$')\n",
    "xlabel(r'$2\\theta$')\n",
    "ylabel(r'Scattering Intensity per Cubic Angstrom')\n",
    "show()\n",
    "\n"
   ]
  },
  {
   "cell_type": "code",
   "execution_count": null,
   "metadata": {},
   "outputs": [],
   "source": []
  }
 ],
 "metadata": {
  "kernelspec": {
   "display_name": "Python 2",
   "language": "python",
   "name": "python2"
  },
  "language_info": {
   "codemirror_mode": {
    "name": "ipython",
    "version": 2
   },
   "file_extension": ".py",
   "mimetype": "text/x-python",
   "name": "python",
   "nbconvert_exporter": "python",
   "pygments_lexer": "ipython2",
   "version": "2.7.12"
  }
 },
 "nbformat": 4,
 "nbformat_minor": 2
}
