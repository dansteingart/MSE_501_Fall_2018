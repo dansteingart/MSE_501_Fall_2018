{
 "cells": [
  {
   "cell_type": "markdown",
   "metadata": {},
   "source": [
    "## Where We Left Off\n",
    "\n",
    "---\n",
    "\n",
    "With hooke's law\n",
    "\n",
    "$$\\sigma = E \\epsilon $$\n",
    "\n",
    "we defined stress as \n",
    "\n",
    "$$\\sigma = \\frac{F}{r^2} = \\frac{\\frac{n a^n}{r_0^{n+1}}\\left [ \\left (\\frac{r_0}{r}\\right )^{m+1}-\\left (\\frac{r_0}{r}\\right )^{n+1}\\right]}{r^2} = \\frac{n a^n}{r_0^{n+3}}\\left [ \\left (\\frac{r_0}{r}\\right )^{m+1}-\\left (\\frac{r_0}{r}\\right )^{n+1}\\right] $$\n",
    "\n",
    "and strain is a dimensionless quantity describing the overall atomic displacement as\n",
    "\n",
    "$$ \\epsilon = \\frac{r-r_0}{r_0} $$\n",
    "\n",
    "We can now define our elastic modulus (spring \"constant\") $E$ as  \n",
    "\n",
    "$$ {E_0} =\\frac{d\\sigma}{d\\epsilon}|_{r=r_0} = r_0 \\frac{d\\sigma}{dr}_{r=r_0} = \\frac{n(n-m)a^2}{r_0^{n+3}}$$ \n",
    "\n",
    "So we can now get rid of both a and b in our initial description of F, so\n",
    "\n",
    "$$ F = \\frac{E_0 r_0^2}{n-m}[(\\frac{r_0}{r})^{m+1}-(\\frac{r_0}{r})^{n+1}] $$\n",
    "\n",
    "And we can redefine our $\\sigma$ accordingly:\n",
    "\n",
    "$$ \\sigma =  \\frac{E_0}{n-m}\\left [ \\left (\\frac{r_0}{r}\\right )^{m+1}-\\left (\\frac{r_0}{r}\\right )^{n+1}\\right]$$\n",
    "\n",
    "As well as our interatomic potential $U$:\n",
    "\n",
    "$$ U =  \\frac{E_0 r_0^3}{n-m}\\left [\\left (\\frac{r_0}{r} \\right )^{n}-\\frac{n}{m}\\left (\\frac{r_0}{r}\\right )^{m} \\right] $$\n",
    "\n",
    "Such that the minimum energy is \n",
    "\n",
    "$$U_{min} \\equiv U(r_0) = \\frac{E_0 r^3}{nm}$$\n",
    "\n",
    "From this we estimated the [maximum theoretical strength a bond](https://notebook.dan.pithy.io/notebooks/Lectures/MSE_501_Lecture_01_Work_Notes.ipynb#So-how-strong-is-this-bond?)\n",
    "\n",
    "$$ \\frac{dF}{dr}|_{r=r_{max}} = \\frac{E_0 r_0^2}{n-m} [-(m+1)\\frac{r_0^{m+1}}{r_{max}^{m+2}}+(n+1)\\frac{r_0^{n+1}}{r_{max}^{n+2}}] = 0 $$ \n",
    "\n",
    "a lot of manipulation later we can say\n",
    "\n",
    "$$r_{max} = \\delta*r_0 = (\\frac{n+1}{m+1})^\\frac{1}{n-m}r_0$$\n",
    "\n",
    "\n",
    "As well as the [melting point of a solid](https://notebook.dan.pithy.io/notebooks/Lectures/MSE_501_Lecture_01_Work_Notes.ipynb#So-that's-if-we-pull-really-hard.--What-if-we-make-it-really-hot?)\n",
    "$$T_m \\approx \\frac{E_0 r_0^3}{85 k} $$\n",
    "\n",
    "Let's do one more estimate and move on:\n",
    "\n",
    "\n",
    "\n",
    "\n"
   ]
  },
  {
   "cell_type": "markdown",
   "metadata": {},
   "source": [
    "# Boiling Point Estimate\n",
    "------\n",
    "When we examine the melting point, we capture the point at which the overall energy is outside the well. To capture the boiling point, we'd like to example the well completely.\n",
    "\n",
    "$$\\frac{3kT_b}{2} \\approx -z_s U_{min} \\approx z_s\\left (\\frac{E_0r_0^3}{n m}\\right)$$\n",
    "\n",
    "**Question:** How is this different from the previous estimate for $T_b$?\n",
    "\n",
    "**Answer:** In the previous example, we are out of the potential well but we are still at a net potential at which molecules are attracted to one another: for boiling, we are freeing the bond from all interactions. \n",
    "\n",
    "**Follow Up** \n",
    "\n",
    " - How does this related to an ideal gas?\n",
    " - Ideal gases don't interact with each other? They can react, but that's a different story. (i.e. it's a flaw in the model.)\n",
    " - What does shape factor of vessel have to do with this, if anything? \n",
    " - $Z_s$ decreases, thereby decreasing the potential for interaction significantly?\n",
    " - At what point is a solid a solid and a liquid a liquid:\n",
    "        -> super hard question!\n",
    "        \n",
    "      \n",
    "\n"
   ]
  },
  {
   "cell_type": "markdown",
   "metadata": {},
   "source": [
    "# Thermal Expansion\n",
    "------\n",
    "At $T = 0 K$, we know that $r_0 = r | _{U_{min}}$. As the temperature increases, we don't escape the well, but slowly climb out.\n"
   ]
  },
  {
   "cell_type": "markdown",
   "metadata": {},
   "source": [
    "# Putting Properties Together\n",
    "----\n",
    "The simple bond gets us here:\n",
    "\n",
    "|Element|Boiling Point (˚C)|Modulus (GPA)| $\\alpha$ ($\\frac{1}{K}$)|\n",
    "|--|--|--|--|\n",
    "|Li|1332|25|56$*10^{-6}$|\n",
    "|Al|2056|70|25$*10^{-6}$|\n",
    "|Fe|2998|210|12$*10^{-6}$|\n",
    "|W |5927|500|4$*10^{-6}$|\n",
    "\n",
    "\n"
   ]
  },
  {
   "cell_type": "markdown",
   "metadata": {},
   "source": [
    "# Madelung Constant\n",
    "---\n",
    "\n",
    "Let's reconsider the interaction potential $U$ for many atoms, rather than just two.\n",
    "\n",
    "$$U_{ij} = \\left ( \\frac{a_{ij}}{r_{ij}} \\right )^n + \\left ( \\frac{b_{ij}}{r_{ij}} \\right )^m $$\n",
    "\n",
    "$$U_i = \\sum_j U_{ij} $$\n",
    "\n",
    "The interaction of $i$ to $j$ is the same as $j$ to $i$, so for $N$ atoms.\n",
    "\n",
    "$$U = \\frac{1}{2} N U_i$$,\n",
    "\n",
    "and the distance between any two atoms should be described by\n",
    "\n",
    "$$r_{ij} = r_0 x_{ij}$$\n",
    "\n",
    "Now we can substitute $r_0$ back into the multi-atom form \n",
    "\n",
    "$$ U_{min} = \\frac{N}{2} \\left ( \\frac{C}{r^n_0} - \\frac{\\alpha_M |Z_i| |Z_j| e^2}{r_0} \\right)$$\n",
    "\n",
    "$$C = \\sum_j \\left ( \\frac{a_{ij}}{x_{ij}} \\right )^n $$\n",
    "\n",
    "$$\\alpha_M = - \\sum_j \\frac{\\frac{Z_i}{|Z_i|} \\frac{Z_j}{|Z_j|}}{x_{ij}} $$\n",
    "\n",
    ">For the NaCl structure, αM = 1.748, so the interaction energy for the crystal has the same form as for an ion pair, and even has a similar value. The Madelung constant is always found to have a value on the order of 1 - 2. Performing the sum in eq. (43) for a \"crystal\" containing only 8 unit cells yields the correct value for αM within < 10%, so the energy of the crystal is largely deter- mined by very local interactions.\n",
    "\n",
    ">The quantity C is not universal for a given structure, because the aij depend on the kinds of atoms that are present."
   ]
  },
  {
   "cell_type": "markdown",
   "metadata": {},
   "source": [
    "\n",
    "# Bonding and Structure\n",
    "----\n",
    "\n",
    "## Types of Bonding\n",
    "\n",
    "\n",
    "| Bonding | Directional? | Strength   | m in model |Examples\n",
    "|--|--|--|--|\n",
    "|Ionic|No|High|1|Salt,Ceramics|\n",
    "|Covalent|Yes|High|6|Ceramics,Organics|\n",
    "|Metallic|No (mostly)|High|4|Metals|\n",
    "|Van der Waals|No|Weak|3|Polymers,Clays,Organics|\n",
    "|Hydrogen|Yes|Weak|3|Water,Clays,Organics|\n",
    "\n",
    "We already motivated ionic bonding, where there's no so much a sharing of electrons as a shedding and grabbing. The classic example is NaCl, where\n",
    "\n",
    "$$Na \\rightarrow Na^+ + e^-$$\n",
    "$$Cl + e^- \\rightarrow Cl^-$$\n",
    "\n",
    "Since the $Na^+$ and $Cl^-$ are now oppositely charged species, they attract strong, with a force described by\n",
    "\n",
    "$$F_A \\propto \\frac{z_{Na^+}z_{Cl^-}}{r^2}$$\n",
    "\n",
    "where $z$ is the net charge on the species\n"
   ]
  },
  {
   "cell_type": "code",
   "execution_count": 33,
   "metadata": {
    "scrolled": false
   },
   "outputs": [
    {
     "data": {
      "image/png": "[encoded data removed]",
      "text/plain": [
       "<matplotlib.figure.Figure at 0x7fc2c2f174d0>"
      ]
     },
     "metadata": {},
     "output_type": "display_data"
    }
   ],
   "source": [
    "def F_ionic(z1,z2,r): return z1*z2/r**2\n",
    "def F_repl(a,r,n): return -(a/r)**n\n",
    "\n",
    "r = linspace(.1,.5,1000)\n",
    "Fa = F_ionic(1,1,r)\n",
    "Fr = F_repl(2.5e-1,r,12)\n",
    "plot(r,Fa)\n",
    "plot(r,Fr)\n",
    "plot(r,Fa+Fr)\n",
    "ylim(-50,50)\n",
    "xlabel(\"a (nm)\")\n",
    "ylabel(\"F (N)\")\n",
    "show()"
   ]
  },
  {
   "cell_type": "markdown",
   "metadata": {},
   "source": [
    "# Ionic Bonding\n",
    "---\n",
    "\n",
    "What we discussed was straight from Scherer\n",
    "\n",
    ">An ionic bond results when an electron is transferred from one neutrally charged atom to another, resulting in the creation of a positively charged cation and a negatively charged anion.\n",
    "\n",
    ">The crystal structure of an ionic material depends on the relative sizes of the ions, because this controls they way they can be packed together. The number of ions surrounding another ion is called its coordination number.\n",
    "\n",
    "Size of ions examples\n",
    "\n",
    ">For three-dimensional packings, the size ratios corresponding to different coordination numbers are summarized in Table 2. If r/R < 0.155, then the smaller ion would rattle around between the larger ones, and that is not permitted; therefore, ions with that size ratio will form a linear arrangement. If r/R > 0.155, the smaller ion can fit in the center of a triangular arrangement, but the larger ions are not able to touch one another. Once r/R = 0.225, the smaller ion can fit in the middle of a tetrahedral arrangement, where the larger ions form the vertices of a pyramid with triangular faces. This is energetically more favorable when 0.225 § r/R § 0.414, so the packing changes from triangular to tetrahedral when the size ratio exceeds 0.225. When the ions are equal in size, the most favorable packing corresponds to a coordination number of 12; as we shall see, that is the packing found in most pure metals.\n",
    "\n",
    "![](https://drops.steingart.princeton.edu/MSE501_Fall_2017/Images/ionic_examples_size.png)\n",
    "![](https://drops.steingart.princeton.edu/MSE501_Fall_2017/Images/valance.png)"
   ]
  },
  {
   "cell_type": "markdown",
   "metadata": {},
   "source": [
    "## Covalent Bonding\n",
    "---\n",
    "Unlike ionic bonds, covalent bonds share the electron in a bond: in a perfectly covalent bond we can say the the electron is 50% between the bonded atoms, in a directional fashion.\n",
    "\n",
    "**Q: Before, did we care about the orbitals involved? ** No, because it was a \"simple\" shelled transfer.\n",
    "\n",
    "In a covalent bond, the quantam mechanics of the valence shell determines the relative position of the bonds: for example in the carbon to carbon atom, which has _sp3_ cordination:\n",
    "\n",
    "It forms a tetrahedron.  \n",
    "\n",
    "https://courses.lumenlearning.com/boundless-chemistry/chapter/valence-bond-theory/\n",
    "\n",
    ">In contrast, the coulombic attraction in an ionic bond is exerted along the line between the centers of the ions. For example, in a crystal of sodium chloride, the Cl-Na-Cl angle is not fixed. The stiffness of such a crystal results from the fact that distortion of the crystal changes the interatomic distances, forcing like-charged ions to approach one another and oppositely charged ions to sepa- rate, which requires work.\n",
    "\n",
    "s-shell example:\n",
    "\n",
    "![](https://drops.steingart.princeton.edu/MSE501_Fall_2017/Images/cl-covalent.png)\n",
    "\n",
    "hybrid example:\n",
    "![](https://drops.steingart.princeton.edu/MSE501_Fall_2017/Images/c-covalent.png)\n",
    "\n",
    "\n"
   ]
  },
  {
   "cell_type": "markdown",
   "metadata": {},
   "source": [
    "## Metallic Bonding\n",
    "---\n",
    "Atoms which bond in a metallic fashion have very little distinction between where the shared electrons exist, hence the term \"sea of electrons.\"\n",
    "\n",
    "**Q: So, how does this compare to ionic and covalent?**\n",
    "\n",
    " - Like a covalent bond, the electron can be seen as shared, \n",
    " - Like an ionic bond, there's no inherent directionality to the bond,bonding potentials and atomic radii set the packing.\n",
    " \n",
    "Unlike both the previous bonds, there is no difference between the valence and conduction bands in a metallic bond, so current flow when _any_ potential is applied.\n",
    "\n",
    "\n"
   ]
  },
  {
   "cell_type": "markdown",
   "metadata": {},
   "source": [
    "## van der Waals Bonding \n",
    "---\n",
    "per scherer\n",
    "\n",
    "\n",
    "> The electron distribution within an atom is not uniform, but fluctuates at a frequency of\n",
    "~10^16 s^-1. Therefore, at any instant any atom is slightly polar, and this causes distortion of the electron distribution (i.e., an induced dipole) around neighboring atoms. For example, in Figure 14, the nonpolar argon atom develops polarity owing to the nonuniform distribution of its electrons (which have shifted left at this particular instant). Consequently, the electrons around the neighbor- ing argon atom shift toward the positive region of the first atom, resulting in a net attraction. This is a weak attraction, but is enough to allow noble gases to condense into the liquid state at low temper- atures. As we shall see, it is also the force that holds many polymer chains together. In fact, every atom is attracted to every other atom by van der Waals forces, because the electron clouds around all atoms exhibit transient nonuniformity.\n",
    "\n",
    "![](https://drops.steingart.princeton.edu/MSE501_Fall_2017/Images/vdw.png)\n",
    "\n",
    "\n"
   ]
  },
  {
   "cell_type": "markdown",
   "metadata": {},
   "source": [
    "## Hydrogen Bonding\n",
    "---\n",
    "> Hydrogen bonds result from the attraction between polar molecules (i.e., molecules with permanent dipoles) containing O-H groups. As indicated in Figure 15, water molecules rotate so that their dipoles align.\n",
    "Figure 15\n",
    "The water molecule is covalently bound, with a H-O-H bond angle of about 108 ̊, which is close to the tetrahedral angle; therefore, when the molecules align they tend to form a tetrahedral arrange- ment. In water, this angle is quite varied because of the rapid motion of the molecules, but in a crystal of ice the angle is strictly enforced. The tetragonal structure of hexagonal ice (which is the type formed at atmospheric pressure) is shown in Figure 16.\n",
    " \n",
    ">  A more realistic picture of the ice structure is shown in Figure 17, where each oxygen appears to be surrounded by 4 hydrogens. In fact, the protons move around rapidly, so that the time-averaged electron density around the oxygen atoms corresponds to half a hydrogen atom at each of the 4 locations indicated by the small blue dots.\n",
    "Figure 17\n",
    "This image shows a portion of the ice structure, with oxygen represented by large red spheres and the hydrogen locations indicated by small blue dots. The protons divide their time between these locations, so that all 4 hydrogen bonds are equally strong. The molecutes on the right and left sides of the picture that appear to be isolated are H- bonded to molecules outside of the selected volume.\n",
    "It is the strength of the hydrogen bond that is responsible for the high boiling point of water. In contrast, a molecule of methane, CH4, has about the same molecular weight, but it boils at -161 ̊C, because the molecules are only attracted to one another by van der Waals forces. (This is true because the electrons are fairly evenly shared between C and H in the covalent bond in methane, so there is no permanent dipole.)\n",
    " \n",
    "> It is the strength of the hydrogen bond that is responsible for the high boiling point of water. In contrast, a molecule of methane, CH4, has about the same molecular weight, but it boils at -161 ̊C, because the molecules are only attracted to one another by van der Waals forces. (This is true because the electrons are fairly evenly shared between C and H in the covalent bond in methane, so there is no permanent dipole.)\n"
   ]
  },
  {
   "cell_type": "markdown",
   "metadata": {},
   "source": [
    "## Polymers \n",
    "---\n",
    "Carbon and Hydrogen bonds balance strong chains vs. weak branches: cross linking improves this."
   ]
  },
  {
   "cell_type": "markdown",
   "metadata": {},
   "source": [
    "# Applications of Fundamentals: Jiang 2010\n",
    "----\n",
    "\n",
    "- What are the forces at play?\n",
    "- How does the presented model compare to out atomic model: \n",
    "    - what are the underlying assumptions\n",
    "    - what are we doing when we are engineering the janus particle (creating atoms)\n",
    "    - What forces can we motivate according to the paper:\n",
    "        - Anything missing? (show magnets)\n",
    "    \n"
   ]
  }
 ],
 "metadata": {
  "kernelspec": {
   "display_name": "Python 2",
   "language": "python",
   "name": "python2"
  },
  "language_info": {
   "codemirror_mode": {
    "name": "ipython",
    "version": 2
   },
   "file_extension": ".py",
   "mimetype": "text/x-python",
   "name": "python",
   "nbconvert_exporter": "python",
   "pygments_lexer": "ipython2",
   "version": "2.7.12"
  }
 },
 "nbformat": 4,
 "nbformat_minor": 2
}
