{
 "cells": [
  {
   "cell_type": "markdown",
   "metadata": {},
   "source": [
    "# Viewing Crystal Structures\n",
    "\n",
    "As we have discussed in class, bond length and structural coordination have a significant impact on the way materials behave, so the crystal structure that results from atoms positioning themselves towards equilibrium is a way of predicting materials behavior.\n",
    "\n",
    "It behooves us to understand these structures in multiple dimensions, so I've cooked up this notebook to help visualize some of the structures we'll talk about in class."
   ]
  },
  {
   "cell_type": "markdown",
   "metadata": {},
   "source": [
    "## The Atomic Simulation Environment\n",
    "\n",
    "To build our structures we'll use the python [Atomic Simulation Environment](https://wiki.fysik.dtu.dk/ase/), and we'll use the [NGL Viewer](http://nglviewer.org/) to visualize them on the web. \n",
    "\n",
    "We import them like so:"
   ]
  },
  {
   "cell_type": "code",
   "execution_count": 8,
   "metadata": {},
   "outputs": [],
   "source": [
    "from ase.build import * \n",
    "import nglview as nv"
   ]
  },
  {
   "cell_type": "markdown",
   "metadata": {},
   "source": [
    "Now we'll whip up a helper function to quickly build out structures based on literature data for elements. This isn't perfect, and we should check the output for validity, but it's a handy way to get started."
   ]
  },
  {
   "cell_type": "code",
   "execution_count": 9,
   "metadata": {},
   "outputs": [],
   "source": [
    "def build_crystal(element,structure=None,x=2,y=2,z=2,a=None,cubic=False):\n",
    "    base = bulk(element,cubic=cubic,a=a) #build a base unit of element\n",
    "    if structure != None: base = bulk(element,structure,cubic=cubic,a=a) #Force the structure if need be\n",
    "    cell = base.repeat((x,y,z)) #Make a crystal of x*y*z repeating units\n",
    "    view = nv.show_ase(cell)\n",
    "    return {'view':view,'base':base}"
   ]
  },
  {
   "cell_type": "markdown",
   "metadata": {},
   "source": [
    "## Bulk Examples"
   ]
  },
  {
   "cell_type": "code",
   "execution_count": 3,
   "metadata": {},
   "outputs": [
    {
     "data": {
      "application/vnd.jupyter.widget-view+json": {
       "model_id": "f5fd08986822499a9430809b14738319",
       "version_major": 2,
       "version_minor": 0
      },
      "text/plain": [
       "NGLWidget()"
      ]
     },
     "metadata": {},
     "output_type": "display_data"
    }
   ],
   "source": [
    "Cu = build_crystal('Cu',x=4,y=4,z=3)\n",
    "Cu['view']\n"
   ]
  },
  {
   "cell_type": "code",
   "execution_count": 4,
   "metadata": {},
   "outputs": [
    {
     "data": {
      "application/vnd.jupyter.widget-view+json": {
       "model_id": "0c4695415fd1441a887f1d7f05ff36fb",
       "version_major": 2,
       "version_minor": 0
      },
      "text/plain": [
       "NGLWidget()"
      ]
     },
     "metadata": {},
     "output_type": "display_data"
    }
   ],
   "source": [
    "Zn = build_crystal('Zn')\n",
    "Zn['view']"
   ]
  },
  {
   "cell_type": "code",
   "execution_count": 5,
   "metadata": {},
   "outputs": [
    {
     "data": {
      "application/vnd.jupyter.widget-view+json": {
       "model_id": "5f69a531381a4c9ab99a9910306f6c9d",
       "version_major": 2,
       "version_minor": 0
      },
      "text/plain": [
       "NGLWidget()"
      ]
     },
     "metadata": {},
     "output_type": "display_data"
    }
   ],
   "source": [
    "W = build_crystal('W',cubic=True,a=4,x=2,y=2,z=1)\n",
    "W['view'].add_spacefill()\n",
    "W['view']"
   ]
  },
  {
   "cell_type": "code",
   "execution_count": 6,
   "metadata": {},
   "outputs": [
    {
     "data": {
      "application/vnd.jupyter.widget-view+json": {
       "model_id": "2f3de012a46e458588dbd7b77e663c64",
       "version_major": 2,
       "version_minor": 0
      },
      "text/plain": [
       "NGLWidget()"
      ]
     },
     "metadata": {},
     "output_type": "display_data"
    }
   ],
   "source": [
    "Po = build_crystal('Po',a=3)\n",
    "Po['view']"
   ]
  },
  {
   "cell_type": "code",
   "execution_count": 7,
   "metadata": {},
   "outputs": [
    {
     "data": {
      "application/vnd.jupyter.widget-view+json": {
       "model_id": "8449ad46ac4349d0b1750e0bbe19268f",
       "version_major": 2,
       "version_minor": 0
      },
      "text/plain": [
       "NGLWidget()"
      ]
     },
     "metadata": {},
     "output_type": "display_data"
    }
   ],
   "source": [
    "build_crystal(\"C\",structure='diamond',a=2,cubic=True)['view']"
   ]
  }
 ],
 "metadata": {
  "kernelspec": {
   "display_name": "Python 2",
   "language": "python",
   "name": "python2"
  },
  "language_info": {
   "codemirror_mode": {
    "name": "ipython",
    "version": 2
   },
   "file_extension": ".py",
   "mimetype": "text/x-python",
   "name": "python",
   "nbconvert_exporter": "python",
   "pygments_lexer": "ipython2",
   "version": "2.7.12"
  }
 },
 "nbformat": 4,
 "nbformat_minor": 2
}
