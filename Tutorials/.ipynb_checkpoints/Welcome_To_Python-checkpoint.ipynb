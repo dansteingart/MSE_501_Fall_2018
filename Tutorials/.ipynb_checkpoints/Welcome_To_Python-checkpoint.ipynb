{
 "cells": [
  {
   "cell_type": "markdown",
   "metadata": {},
   "source": [
    "# Welcome To Python (and Notebooks)\n",
    "\n",
    "[Python](https://python.org) is a first class programming language that combines the simplicity of scripting languages with the power of object oriented programming. If you've used matlab or fortran aspects of python will be familiar (whitespace formatting, lack of brackets), and it may be a bit of an adjustment from C/Java like languages, but it's worth it.\n",
    "\n",
    "\n",
    "I think Python is great because\n",
    "- It is readable\n",
    "- It is portable (runs on just about anything)\n",
    "- It has extensive libraries\n",
    "- It is open source\n",
    "- It simultaneously like a scalpel and like duct tape (it can be high performance and it can also be used to tie existing services together readily)\n",
    "\n",
    "So it's worth knowing.\n"
   ]
  },
  {
   "cell_type": "markdown",
   "metadata": {},
   "source": [
    "Python is historically used like any other programming language. You write code (in a text editor or IDE), and you run the code. But python has a powerful **R**ead **E**valuate **P**rint **L**oop  (**REPL**) capability for running code inline and playing with variables in memory. [Jupyter Notebooks](http://jupyter.org/) are a very slick way of exploiting the REPL while allowing for code editing and completion. You are using it right now to read this, and you will use it to play with it.\n",
    "\n",
    "There are a ton of libraries that turn python into a scientific computing environment, and I've created a library and IDE that ties many of them together called [pithy](https://github.com/dansteingart/pithy). We'll always import pithy before doing our stuff. \n",
    "\n",
    "You'll also notice there's a lot of not code in notebooks. Like what you're reading now. This is just text. If you double click on this text, you'll see some funny formatting, this is called [markdown](https://daringfireball.net/projects/markdown/). You can click on \"help\" above for formatting help. \n",
    "\n",
    "\n",
    "Aside: If you like \"regular coding\" more than notebooks, you can add \"pithy\" to the url: https://pithy.YOURUSENAME.mse501.pithy.io.  \n",
    "\n",
    "This is a matter of style. There are reasons [for](http://willcrichton.net/notes/lessons-from-jupytercon/) and [against](https://docs.google.com/presentation/d/1n2RlMdmv1p25Xy5thJUhkKGvjtV-dkAIsUXP-AL4ffI/edit) notebooks. I use notebooks for teaching because I can intersperse text and code cleanly and share it with you. When I work on my own stuff I typically use pithy. \n",
    "\n",
    "Enough preamble. Let's learn some python and see what the pithy imports do.\n"
   ]
  },
  {
   "cell_type": "markdown",
   "metadata": {},
   "source": [
    "---\n"
   ]
  },
  {
   "cell_type": "markdown",
   "metadata": {},
   "source": [
    "# Python Basics\n",
    "\n",
    "To import a library, simply type `import`. Like so"
   ]
  },
  {
   "cell_type": "code",
   "execution_count": 1,
   "metadata": {},
   "outputs": [],
   "source": [
    "import sys"
   ]
  },
  {
   "cell_type": "markdown",
   "metadata": {},
   "source": [
    "This imports the `sys`tem  library and allows us to interact with the underlying file system. To import `pithy`  we then type"
   ]
  },
  {
   "cell_type": "code",
   "execution_count": 2,
   "metadata": {},
   "outputs": [],
   "source": [
    "#append the pithy directory\n",
    "sys.path.append(\"/pithy/code\")\n",
    "\n",
    "#now import pithy\n",
    "from pithy import *\n",
    "# hashes start a comment \n",
    "\n",
    "%matplotlib inline"
   ]
  },
  {
   "cell_type": "markdown",
   "metadata": {},
   "source": [
    "In the above line of code, we are adding the `pithy/code` directoy to our import path, and then importing the entire namepace of pithy into our notebook. This allows us to use matlab like calls to get stuff done.\n",
    "\n",
    "Now let's define some variables.\n"
   ]
  },
  {
   "cell_type": "code",
   "execution_count": 3,
   "metadata": {},
   "outputs": [
    {
     "name": "stdout",
     "output_type": "stream",
     "text": [
      "apple\n",
      "1\n",
      "['apple', 3, 'whatever']\n",
      "apple 1 ['apple', 3, 'whatever']\n",
      "\n"
     ]
    }
   ],
   "source": [
    "#this is how you set a variable\n",
    "a = \"apple\"\n",
    "b = 1\n",
    "c = [a,3,'whatever']\n",
    "\n",
    "#This is how you show a variable\n",
    "print a\n",
    "print b\n",
    "print c\n",
    "#throw them together\n",
    "print a,b,c\n",
    "print \"\""
   ]
  },
  {
   "cell_type": "markdown",
   "metadata": {},
   "source": [
    "now let's do some math"
   ]
  },
  {
   "cell_type": "code",
   "execution_count": 4,
   "metadata": {},
   "outputs": [
    {
     "name": "stdout",
     "output_type": "stream",
     "text": [
      "d = 7.0\n",
      "e = 9.0\n",
      "d+e = 16.0\n",
      "d-e = -2.0\n",
      "d*e = 63.0\n",
      "d/e = 0.777777777778\n",
      "d^2 = 49.0\n",
      "e^2 = 81.0\n",
      "PEMDAS COUNTS!\n"
     ]
    }
   ],
   "source": [
    "d = 7.0 #use decimals to indicate you would like to do math with a float\n",
    "e = 9.0\n",
    "print \"d =\",d\n",
    "print \"e =\",e\n",
    "print \"d+e =\",d+e\n",
    "print \"d-e =\",d-e\n",
    "print \"d*e =\",d*e\n",
    "print \"d/e =\",d/e\n",
    "print \"d^2 =\",d**2\n",
    "print \"e^2 =\",e**2\n",
    "print \"PEMDAS COUNTS!\"\n"
   ]
  },
  {
   "cell_type": "markdown",
   "metadata": {},
   "source": [
    "Notice how python doesn't seem to care what type of data you assigned to a variable.  This is because python trusts you to know what you are doing and gives you plenty of rope to hang yourself.  please don't hang yourself.  For more about this go here: http://bit.ly/python-typing"
   ]
  },
  {
   "cell_type": "markdown",
   "metadata": {},
   "source": [
    "### Here's where it can get tricky: Error handling"
   ]
  },
  {
   "cell_type": "code",
   "execution_count": 5,
   "metadata": {},
   "outputs": [
    {
     "name": "stdout",
     "output_type": "stream",
     "text": [
      "error: cannot concatenate 'str' and 'int' objects\n"
     ]
    }
   ],
   "source": [
    "try:\n",
    "    ab = a+b\n",
    "    print ab\n",
    "except Exception as err:\n",
    "    print \"error:\",err"
   ]
  },
  {
   "cell_type": "markdown",
   "metadata": {},
   "source": [
    "Why did this happen?  \n",
    "\n",
    "Notice what we did up there: we used try and except to try a risky function (\"try:\") and then handle (\"except Exception as err:\") error that risk function might have created.  If we did not handle the error the block would have stopped dead in its tracks.\n",
    "\n",
    "Notice, also, that I indented code above.  python uses \"whitespace\" to delimit code. let's examine this with some common programming concepts\n"
   ]
  },
  {
   "cell_type": "markdown",
   "metadata": {},
   "source": [
    "### Conditionals behave as expected"
   ]
  },
  {
   "cell_type": "code",
   "execution_count": 6,
   "metadata": {},
   "outputs": [
    {
     "name": "stdout",
     "output_type": "stream",
     "text": [
      "a is larger\n"
     ]
    }
   ],
   "source": [
    "a = 5\n",
    "b = 4\n",
    "if a > b:\n",
    "    print \"a is larger\"\n",
    "elif b<a:\n",
    "    print \"b is larger\"\n",
    "else:\n",
    "    print \"a and b are the same\"\n",
    "    \n",
    "#if whitespace is not consistent, an error is thrown"
   ]
  },
  {
   "cell_type": "markdown",
   "metadata": {},
   "source": [
    "### Iteration behaves as expected"
   ]
  },
  {
   "cell_type": "code",
   "execution_count": 7,
   "metadata": {},
   "outputs": [
    {
     "name": "stdout",
     "output_type": "stream",
     "text": [
      "a =  [1, 2, 3, 4, 5, 6, 7, 8, 9]\n",
      "now let's count\n",
      "1\n",
      "2\n",
      "3\n",
      "4\n",
      "5\n",
      "6\n",
      "7\n",
      "8\n",
      "9\n",
      "\n",
      "now be a bit tricky\n",
      "1^1 =  1\n",
      "2^2 =  4\n",
      "3^3 =  27\n",
      "4^4 =  256\n",
      "5^5 =  3125\n",
      "6^6 =  46656\n",
      "7^7 =  823543\n",
      "8^8 =  16777216\n",
      "9^9 =  387420489\n",
      "\n",
      "now for a casting error that python will pass to your frustration\n",
      "\n",
      "1/5 =  0\n",
      "2/5 =  0\n",
      "3/5 =  0\n",
      "4/5 =  0\n",
      "5/5 =  1\n",
      "6/5 =  1\n",
      "7/5 =  1\n",
      "8/5 =  1\n",
      "9/5 =  1\n",
      "\n",
      "wait, that's not right\n",
      "\n",
      "1/5 =  0.2\n",
      "2/5 =  0.4\n",
      "3/5 =  0.6\n",
      "4/5 =  0.8\n",
      "5/5 =  1.0\n",
      "6/5 =  1.2\n",
      "7/5 =  1.4\n",
      "8/5 =  1.6\n",
      "9/5 =  1.8\n",
      "much better, what did I change?\n",
      "finally, a while conditional\n",
      "0\n",
      "1\n",
      "2\n",
      "3\n",
      "4\n",
      "5\n",
      "6\n",
      "7\n",
      "8\n",
      "9\n",
      "what happens if the condition is never met?\n"
     ]
    }
   ],
   "source": [
    "#let's make a list of numbers from 1 to 9\n",
    "a = range(1,10)\n",
    "print 'a = ', a\n",
    "\n",
    "#now, to interate through:\n",
    "print \"now let's count\"\n",
    "for i in a:\n",
    "    print i\n",
    "print \"\"\n",
    "#now, to interate through:\n",
    "\n",
    "print \"now be a bit tricky\"\n",
    "for i in a:\n",
    "    print str(i)+\"^\"+str(i)+\" = \",i**i\n",
    "#what did I just do there?\n",
    "print \"\"\n",
    "print \"now for a casting error that python will pass to your frustration\"\n",
    "print \"\"\n",
    "for i in a:\n",
    "    print str(i)+\"/5 = \",i/5\n",
    "print \"\"    \n",
    "print \"wait, that's not right\"\n",
    "print \"\"    \n",
    "for i in a:\n",
    "    print str(i)+\"/5 = \",i/float(5)\n",
    "print \"much better, what did I change?\"\n",
    "\n",
    "print \"finally, a while conditional\"\n",
    "a = 0\n",
    "while a < 10:\n",
    "    print a\n",
    "    a += 1\n",
    "\n",
    "print \"what happens if the condition is never met?\""
   ]
  },
  {
   "cell_type": "markdown",
   "metadata": {},
   "source": [
    "### Defining functions is easy!"
   ]
  },
  {
   "cell_type": "code",
   "execution_count": 8,
   "metadata": {},
   "outputs": [
    {
     "name": "stdout",
     "output_type": "stream",
     "text": [
      "12\n"
     ]
    }
   ],
   "source": [
    "#to define a function\n",
    "def myfunction(a,b):\n",
    "    return a+b\n",
    "    \n",
    "print myfunction(10,2)"
   ]
  },
  {
   "cell_type": "markdown",
   "metadata": {},
   "source": [
    "### Array math is like matlab*\n",
    "Pithy imports `numpy`, which has arrays."
   ]
  },
  {
   "cell_type": "code",
   "execution_count": 9,
   "metadata": {},
   "outputs": [
    {
     "name": "stdout",
     "output_type": "stream",
     "text": [
      "a =  [ 0 10 20 30 40 50 60 70 80 90]\n",
      "2*a =  [  0  20  40  60  80 100 120 140 160 180]\n",
      "a^2 = [   0  100  400  900 1600 2500 3600 4900 6400 8100]\n"
     ]
    }
   ],
   "source": [
    "#make a list\n",
    "a = range(0,100,10)\n",
    "a = array(a) #turn the list to an array that we can treat like a vector\n",
    "print \"a = \",a\n",
    "print \"2*a = \", 2*a\n",
    "print \"a^2 =\", a**2"
   ]
  },
  {
   "cell_type": "markdown",
   "metadata": {},
   "source": [
    "### We can plot stuff!"
   ]
  },
  {
   "cell_type": "code",
   "execution_count": 10,
   "metadata": {},
   "outputs": [
    {
     "data": {
      "text/plain": [
       "[<matplotlib.lines.Line2D at 0x7fdc52025490>]"
      ]
     },
     "execution_count": 10,
     "metadata": {},
     "output_type": "execute_result"
    },
    {
     "data": {
      "image/png": "[encoded data removed]",
      "text/plain": [
       "<Figure size 432x288 with 1 Axes>"
      ]
     },
     "metadata": {},
     "output_type": "display_data"
    }
   ],
   "source": [
    "#this is how we plot\n",
    "ylabel(\"Y-Axis\") #label your axes\n",
    "xlabel(\"X-Axis\") #label your axes\n",
    "legend() #show a legend\n",
    "plot(a,3*a**(.5),label=\"3*a^(1/2)\") #plot a on the x-axis, sqrt(a) on the y-axis, and label \"a^(1/2\") \n",
    "plot(a,2*a,label=\"2*a\")\n",
    "plot(a,a,label=\"a\")\n"
   ]
  },
  {
   "cell_type": "code",
   "execution_count": 11,
   "metadata": {},
   "outputs": [
    {
     "data": {
      "text/plain": [
       "<Figure size 432x288 with 0 Axes>"
      ]
     },
     "metadata": {},
     "output_type": "display_data"
    }
   ],
   "source": [
    "#and clear the figure to start another pliot\n",
    "clf()"
   ]
  }
 ],
 "metadata": {
  "kernelspec": {
   "display_name": "Python 2",
   "language": "python",
   "name": "python2"
  },
  "language_info": {
   "codemirror_mode": {
    "name": "ipython",
    "version": 2
   },
   "file_extension": ".py",
   "mimetype": "text/x-python",
   "name": "python",
   "nbconvert_exporter": "python",
   "pygments_lexer": "ipython2",
   "version": "2.7.12"
  }
 },
 "nbformat": 4,
 "nbformat_minor": 2
}
